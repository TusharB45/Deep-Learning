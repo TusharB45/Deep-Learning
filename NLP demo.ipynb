{
 "cells": [
  {
   "cell_type": "code",
   "execution_count": 9,
   "metadata": {},
   "outputs": [],
   "source": [
    "import random\n",
    "import nltk\n",
    "from nltk.corpus import movie_reviews\n",
    "from nltk.classify import NaiveBayesClassifier\n",
    "from nltk.classify.util import accuracy as nltk_accuracy\n"
   ]
  },
  {
   "cell_type": "code",
   "execution_count": 10,
   "metadata": {},
   "outputs": [
    {
     "name": "stderr",
     "output_type": "stream",
     "text": [
      "[nltk_data] Downloading package movie_reviews to C:\\Users\\Neha\n",
      "[nltk_data]     Borse\\AppData\\Roaming\\nltk_data...\n",
      "[nltk_data]   Unzipping corpora\\movie_reviews.zip.\n"
     ]
    },
    {
     "data": {
      "text/plain": [
       "True"
      ]
     },
     "execution_count": 10,
     "metadata": {},
     "output_type": "execute_result"
    }
   ],
   "source": [
    "nltk.download('movie_reviews')"
   ]
  },
  {
   "cell_type": "code",
   "execution_count": 11,
   "metadata": {},
   "outputs": [],
   "source": [
    "# Prepare the data\n",
    "reviews = []\n",
    "for fileid in movie_reviews.fileids():\n",
    "    review_category = fileid.split('/')[0]\n",
    "    reviews.append((list(movie_reviews.words(fileid)), review_category))"
   ]
  },
  {
   "cell_type": "code",
   "execution_count": 12,
   "metadata": {},
   "outputs": [],
   "source": [
    "# Define feature extraction\n",
    "def extract_features(words):\n",
    "    return dict([(word, True) for word in words])"
   ]
  },
  {
   "cell_type": "code",
   "execution_count": 13,
   "metadata": {},
   "outputs": [],
   "source": [
    "\n",
    "# Prepare the feature sets\n",
    "feature_sets = [(extract_features(words), category) for (words, category) in reviews]"
   ]
  },
  {
   "cell_type": "code",
   "execution_count": 14,
   "metadata": {},
   "outputs": [],
   "source": [
    "# Split the data into training and testing sets with a threshold factor of 0.8\n",
    "threshold = int(len(feature_sets) * 0.8)\n",
    "train_set = feature_sets[:threshold]\n",
    "test_set = feature_sets[threshold:]"
   ]
  },
  {
   "cell_type": "code",
   "execution_count": 15,
   "metadata": {},
   "outputs": [],
   "source": [
    "# Create the NaiveBayesClassifier object and train it using the training dataset\n",
    "classifier = NaiveBayesClassifier.train(train_set)"
   ]
  },
  {
   "cell_type": "code",
   "execution_count": 16,
   "metadata": {},
   "outputs": [
    {
     "name": "stdout",
     "output_type": "stream",
     "text": [
      "Training Datapoints: 1600\n",
      "Test Datapoints: 400\n",
      "Accuracy: 0.965\n"
     ]
    }
   ],
   "source": [
    "# Print the length of training features (training datapoints)\n",
    "print(\"Training Datapoints:\", len(train_set))\n",
    "\n",
    "# Print the length of test datapoints\n",
    "print(\"Test Datapoints:\", len(test_set))\n",
    "\n",
    "# Evaluate the classifier\n",
    "print(\"Accuracy:\", nltk_accuracy(classifier, test_set))"
   ]
  },
  {
   "cell_type": "code",
   "execution_count": 17,
   "metadata": {},
   "outputs": [],
   "source": [
    "# Randomly select and test some reviews\n",
    "random.shuffle(reviews)\n",
    "test_reviews = reviews[:10]  # Selecting 10 reviews randomly"
   ]
  },
  {
   "cell_type": "code",
   "execution_count": 19,
   "metadata": {},
   "outputs": [
    {
     "name": "stdout",
     "output_type": "stream",
     "text": [
      "\n",
      "Randomly Selected Reviews:\n",
      "\n",
      "Review: as we see the terrible events that unfold before our eyes in the middle east at the moment , hollywood doesn ' t loose the oppertunity to get involved , by telling stories and expressing opinions . this film centers on a relationship forged throughout the adult lifetimes of two marine colonels , hays hodges ( tommy lee jones ) and terry childers ( samuel l . jackson ) . they fought side by side in vietnam , where childers saved hodges ' life by shooting an unarmed pow . that ' s against the rules of war but understandable , in this story anyway , under the specific circumstances . certainly hodges is not complaining . years pass . hodges , whose wounds make him unfit for action , gets a law degree and becomes a marine lawyer . childers , is now a respected and much - decorated hero that has served his country with his life and sould . because of his excellent record , childers is sent to yemen to rescue the american ambassador ( ben kingsley ) , cowering in the embassy under assault from violent demonstrators and snipers blasting from rooftops . childers does what he has to do : evacuate the family and protect the men under his command . after three marines die and the colonel thinks he sees ground fire , he orders his troops to shoot into the firing crowd . more than 80 yemeni men , women , and children are mowed down . childers is immediately accused of ordering his men to fire on a crowd and murder of unarmed civilians . he persuades his old friend hodges to represent him in the courtroom drama that occupies the second half of the film . did childers violate authorized u . s . military rules of engagement ? or are there simply no rules in war ? the answers to these stereotypical questions are obvious , but the inconsistent plot immediately raises all sorts of other questions . the murder of 83 \" innocent civilians \" has to result into something greater than a simple trial in the u . s . where is the accusations from the arab leaders ? where is the u . n . ? the film ends without even telling the most interesting story : what happens on the international arena ? this film ( in a way akin to films such as \" a few good men \" ) has already been accused of breaking the rules of morality and ethics and even of racism . these accusations are pretty heavy , but also unfair . what director william friedklin truly broke was the rules of decent filmmaking . one of the earliest apparent problems with ' rules of engagement ' is its lack of credibility . the entire operation in yemen may remind us about what happens in the middle east right now , but is overdone , contrived and unrealistic - as if a chain of events had to happen in a particular manner in order for the plot to proceed . a lot of it is so cheesy that no one could possibly accept it as reality . that is precisely why it ' s not offensive . it is completely unobjective . many stories are started and never finished . many questions are asked , but never answered . a lot of parallels are referring to nothing . it seems that neither the director , producers or the screenwriter can make up their minds about the contents of their film . is it about arab mentality ? america ' s foreign policies ? america ' s role in the world ? corruption in the higher circles ? it goes on and on . it consists of countless stories , but not a definable plot . it tries to be everything for everyone and ends up being nothing for no one . i think that it is ironic , because director william friedkin ' s probably most acclaimed film was \" the exorcist \" which had a silly story , but became a rather effective film . in this case you have a strong story with many possibilities and the result is a silly film . though several scenes bare the mark of professionalism ( such as the impressive battle scenes ) , his latest film does simply not engage . i believe that friedklin is a director that is absolutely depended on great scripts and talented producers in order to succeed . it ' s obvious that he has neither and the result is therefore a catastrophe . the characters feel designed , unreal , merely shadows , with no life outside the conflict . even the actors can not save this film from going under . though both jackson and jones act admirably , with performances that are as good as you get with a script like this , it is not something that these great actors can boast of . they have roles that they could play blindfolded with their hand on the back . jackson is gray and jones uninteresting . the rest of the cast , including ben kingsly , blair underwood and guy pearce are simply waiting for their paychecks . the time has come for the verdict . on the charges of complete lack of objectivity , i find this film guilty . on the charges of breaking the rules of reasonable filmmaking , i find it guilty . but on the charges of racism i find this film not guilty , because of it ' s inconclusive and often silly plot that lacks objectivity everywhere , not only when concerning the arab population . i must admit that the film is dangerously near the line of being racially offensive and i do think that screenwriter stephen gaghan went a bit too far , portraying the yemeni people almost as stereotypical hollywood bad - guys . this is very sad , since in a time like this it is crucial to not lose objectivity and proclaim the truth . however , it is absolutely necessary to remember that the muslim terrorists are responsible for most of the terrorist activity in and outside the united states . and that it ' s not a coincidence that u . s . residents in the middle east , including yemen are on constant maximum alert .\n",
      "Category: neg\n",
      "Predicted Sentiment: neg\n",
      "Probability: 0.9999400976772174\n",
      "\n",
      "Review: the jekyll and hyde story told from his maid ' s point of view is , in a word , \" dark \" . you wouldn ' t expect something bright and cheery based on robert louis stevenson ' s novel , but the film is surprisingly dreary and dismal . jekyll / hyde ( john malkovich ) is terminally depressed and desperate . mary reilly ( julia roberts ) is a victim of monstrous child abuse and the anti - woman sentiment of the times . director stephen fears ' version of the london slums makes us marvel that anyone survived them . the lighting level is exceedingly low throughout the movie : it almost appears to be filmed in black and white . the direction and cinematography are brilliant and liquid . scenes flow into the next scene like honey oozing off a strawberry . ( except there ' s no red , of course . ) the look is so moody and melodramatic that you ' ll be shocked when you leave the theater . i saw it at a matinee and took quite a while to adjust to the sunny skies afterward . often the jekyll and hyde archetypes are viewed as splitting a whole person into components of good and evil or perhaps cerebral and emotional parts . here the doctor is intellectual and perhaps good , but certainly powerless . his alter ego is forceful and totally without conscience . two parts that make up a whole . neither are capable of functioning without the other and once separated , disaster is inevitable . the differences between the two characters would be more effective if it were accomplished by demeanor and attitude . when we finally see the transformation , the special effects thrust the story into the realm of science fiction , not the psychological horror that the tale demands . roberts and malkovich are skillful in their roles . both are suitably melancholy , fitting in with the rest of the film . the only flash of life and color comes from glenn close ( and her lips ) as the madam of a whorehouse where hyde lives , and surprisingly , jekyll apparently frequents . life and color maybe , but this is not close ' s best role . she seems little more than a cardboard cutout character . a beautiful film in its own dreary way . you ' ll appreciate the filmmaking craft , but don ' t expect to leave in an upbeat mood .\n",
      "Category: pos\n",
      "Predicted Sentiment: pos\n",
      "Probability: 1.0\n",
      "\n",
      "Review: capsule : an insult . a stupid and incompetent movie that doesn ' t even have the benefit of being trashily enjoyable . weslely and woody would do well to leave this off their resumes . money train is one of the worst movies i have ever seen . it ' s not simply idiotic , it ' s contemptuous of its audience . it tries to make us swallow things that a better movie would be stopped cold by or just plain omit entirely . it ' s a waste of wesley snipes and woody harrelson , who are enjoyable actors in their own rights but are nauseating here . it ' s not even fun as trash . woody and wesley star ( maybe that ' s not the right word ) as new york city transit authority police . they have a job which could actually be the core of a really interesting movie : one of them plays drunk possum to attract chain - snatchers and the other does lookout . i had a whole headful of legal and ethical questions surrounding this , raised by a documentary i ' d seen on the subject once , but the movie does not waste any time with being intelligent or thought - provoking . see if you can follow this . they chase a kid down the tunnel and into the station where the \" money train \" , the heavily armored car that picks up all the cash from the token books , is parked . the guards on the train see this kid running at them , lift their machine guns , shout \" halt ! \" and then open fire when the kid doesn ' t stop running at them . blam , the kid ' s dead . then woody and wesley show up , and of course the other ta cops hate them ( why ? ) , and a pushing match starts , and someone gets decked , and . . . i covered my face . i ' d seen enough . i ' ve never seen a movie work so hard and in so little time to destroy , systematically , any chance of being credible or interesting . fed up with the bs at their job ( most of it their own goddamned fault ) , woody and wesley hatch this plot about how to rob the money train . hence the title , in case some of you ( all two of you ) didn ' t figure it out yet . then there ' s this subplot about a maniac who torches token book clerks , * and * a love story , * and * a holdup -- no , two holdups , sorry , easy to lose track in a movie this braindead -- * and * a mob boss who wants his money . there wasn ' t a minute when i gave a horse ' s ass about any of it . neither woody nor wesley play characters that are interesting for a single minute . we do not care about them . they are not interesting . they are noisy , loud , stupid , foolish jerks who whould have flunked out of the police academy . they deserve to get shot -- or run over , as the case may be . they only exist to rehash the kind of dynamics that was * written * into a movie like white men can ' t jump , and which simply does not exist here . they are idiots , and we ' re expected to root for them . bullcrap . the movie is completely schizophrenic in its tone and texture . what exactly is this mess ? a cop movie ? police procedure is not given a moment ' s genuine thought anywhere . a thriller ? the subplot with the token booth killer is inept , a throwaway that should have been ditched in the rewrite . a comedy ? the few jokes that do work are wasted . a drama ? all dramatic tension between both principals is freeze - dried and off - the - rack . there ' s not a moment in the movie where i felt like i was listening to genuine human beings talk ; it ' s all screenwriterese , that bizarre analect where every sentence ends in a punchline and the primary mode of expression is the unique conjunctions of four - letter words . ( actual dialogue excerpt : \" fuck you . \" \" what ? \" \" you heard me : fuck * you * . \" \" no : fuck * you * ! \" ) look . i ' ll be honest here . i ' ve tried writing screenplays , and even * i * suspect that if i tried to pitch this mess , i ' d get laughed out of the office . anyone interested in hearing my ideas for a few good movies can write me and hear my pitch , because god knows i know i can do better . i ' ve weasted enough time on this piece of tripe .\n",
      "Category: neg\n",
      "Predicted Sentiment: neg\n",
      "Probability: 1.0\n",
      "\n",
      "Review: luckily , some people got starship troopers . some people knew it was supposed to be silly . for those of you who didn ' t , how could you miss it ? from the very beginning , when we see an interactive internet - like promotional video for the armed forces of the future , it should be obvious this film is to be taken lightly . i guess without blatant one - liners and home alone style slapstick , some people just don ' t recognize such goofy humor . such a dry approach to such intentionally campy humor must have left some disillusioned . first thing to do before seeing this movie - lighten up . meet the equivalent of \" beverly hills 90210 \" meets \" mighty morphin power rangers \" . four close friends are now graduating high school and are ready to join the armed forces , which , in the future , means fighting for the whole galaxy and not just your country . johnny rico ( casper van dien ) is ready to join the infantry , mostly because his girlfriend carmen ibanez ( denise richards ) has enlisted to be a pilot . dizzy flores ( dina meyer ) has enlisted as a trooper , and it ' s possible she ' s joining merely to follow rico , whom she ' s always had eyes for . if you saw these three on the street , you ' d automatically start searching for the fashion designers and photographers , for never has a movie ' s cast looked so much like the cut - out cover of \" seventeen \" magazine . the lone non - supermodel , carl jenkins ( played by doogie howser himself , neil patrick harris ) is the brainiac who gets into the military intelligence division , the top secret department that pretty much leaves doogie - er , carl out of the picture . ( good call - now we can put all our drooling efforts into only the most deserving of characters ) . right off the bat , rico becomes the star of the show , far surpassing all the other soldiers and becoming squadron leader in a short period of time . but a horrific accident during a standard training exercise ( which follows all to closely to his breakup with carmen ) leaves rico ready to call it quits . with his bags packed and his civilian clothes back on , johnny is ready to walk off base and catch the next flight home . well sorry , rico suave , but there ' s no place like home , especially after gigantic alien insects have destroyed it . that ' s right , the planet is being attacked by a colony of arachnid - like alien beings that a can of raid just isn ' t going to destroy . with a sudden change of heart ( and clothes ) , rico is back in the game , following his fellow starship troopers off to fight a mean group of daddy long legs . what starship troopers really is , is a spoof of all that it even remotely touches on - the soap opera like love affairs of high school , the love for sci - fi and thirst for gore shared by this same age group , etc . nothing is taken seriously . it ' s almost as much a satire on young adults as clueless , but with its sly and futuristic approach , it ' s not as recognizably so . it ' s a spoof so subtle that many won ' t recognize the spoofery . if you deem this as sci - fi / action , you ' re wrong . it ' s sci - fi / action / comedy , with the comedy being on the level of such cult favorites as evil dead 2 . starship troopers just may be on the road to cult status as well . gore is a factor heavily brought up in reviews of this film , but the gore , too , is meant to be cheesy . yes , it ' s graphic , but it ' s also brutally phony , and that ' s what makes it such great fun to watch . not since the old \" mr . bill \" skits on \" saturday night live \" has torture and mutilation been such a joy to watch . people were laughing out loud every time a body was severed in half or a head was viciously decapitated . perhaps it brings back fond memories of the severities we inflicted upon our sisters ' barbie dolls as young children . with the actors resembling ken and barbie so closely , it ' s a good chance this is the case , whether we ' re fully aware of it or not . starship troopers has it ' s slow parts , but it ' s truly an alternative to your typical sci - fi / action flick or lame juvenile comedy . aside from the intentionally cheesy gore , the special effects are quite astounding . when the spaceship passes a meteor , it ' s quite an awesome spectacle , visually crisp and captivating . if you ' re looking for brainless fun , this is the epitome of your search . a beautiful cast , awesome special effects , fast - paced action , campy acting , and a whole lot of gore . this is brainless heaven . just remember not to think .\n",
      "Category: pos\n",
      "Predicted Sentiment: pos\n",
      "Probability: 1.0\n",
      "\n",
      "Review: plunkett & macleane marks the directing debut of jake scott , brother of ridley and tony . naturally , this got me worried . would jake ' s talent be inherited from ridley or tony ? if it was from ridley , than the movie would be a thoughtful suspensor with action thrown in . if it was from tony , it would be wham bang drivel . unfortunately , the latter is true for this worthless picture with little charm . carlyle and miller are the titular highwaymen , plunkett ( carlyle ) who is poor and unruly , and captain james macleane ( miller ) a clean cut gentleman . as the tagline clearly wants to make known , they rob the rich and nothing else . the film basically follows the rowdy hold ups the two stage , along with romantic interludes with lady rebecca ( tyler . ) hot on both their tails is mr chance ( ken stott ) who wants to see them both dead . plunkett & macleane is an annoying little film that serves little purpose . although undoubtedly slick and fast paced , there ' s very little merit contained in the film . carlyle and miller are fun enough as the foul mouthed pair , although their characters are criminally undeveloped . it appears that much of the money has been spent on the expensive looking sets and costumes , but not on the script . the five ( ! ) screenwriters ( three credited ) have produced an still born movie : there ' s very little development in the story . also , major events , such as mr . cash finding out who plunkett and macleane really are , are so rushed that they barely happened . the story is a bit of a mess , frankly . the performances aren ' t bad : carlyle and miller are typical lads , but liv tyler is a huge disappointment as the love interest . her irritable , stilted performance sticks out like a sore thumb , and i was quite unsure on what accent she was trying to put on . she looks nice , though . more interesting is alan cummings as the campy lord rochester , and although his character amounts to nothing more than a two dimensional comedy gay character , he hams it up well . ken stott is suitably evil as chance , but again he is nothing but a flat character . i didn ' t particularly care when the predictable death sequence arrived . although a disappointment in writing , and a minor success in acting , the film certainly look lavish , with good costumes , and wonderful sets . but production design alone can ' t save a movie , especially a movie as bad as this mess . jake scott would be more suited to directing a music video rather than this failed update of a period drama : the only update seems to be the fact that everyone must talk dirty , with ' f * ck this ' and ' stand and f * cking deliver ' splattered all over the place . the mtv editing and direction are flash enough , but in the end decidedly empty . plunkett & macleane is a massive disappointment . although somewhat enjoyable during parts , it ' s so light it could float off the screen if it wasn ' t just images on a reel . there ' s no thought , no development , no plot , just a series of manic edits and quirky camera angles to make this film appeal to gen - xers . although it ' s a great idea : update a period drama to the mtv generation : it ' s execution is awful , and would more likely bore than excite . sloppy and occasionally off puttingly tasteless , it ' s hard to recommend plunkett & macleane as a movie , but easy to recommend it as a overlong music video . give it a miss .\n",
      "Category: neg\n",
      "Predicted Sentiment: neg\n",
      "Probability: 1.0\n",
      "\n",
      "Review: 54 is dull , perfunctory , uninspired , and boring . a greater writer might have created a lyrical sentence for each of those adjectives , flowing in lovely arangements with soaring metaphors . i , however , would rather cut to the chase . 54 is dull , perfunctory , uninspired , and boring . there is nothing in it -- not a glimpse of depth , nor a shimmer of intelligence or insight . there is no electricity in any of the scenes , or a moment of interest in the story or its subplots . and it ' s underdeveloped , and features an array of bland characters played by actors who think they ' re in this year ' s boogie nights . they are so wrong . the picture has been assembled by mark christopher . based on this film , i don ' t know how he got a job in the business . 54 is supposed to be an amazing insight into the world of the dance club of the same name , which originated in the 70s and closed down in the 80s . i don ' t know if this film went into production after boogie nights was released , but christopher has managed to plagiarize paul thomas anderson ' s brilliant work in every possible way , from the framework of the plot down to the style of the cinematography . what it lacks is everything that made boogie nights great : depth , intelligence , energy , fascinating characters , and challenging themes . 54 can ' t even measure up to the last days of disco , which is flawed , but still smart and entertaining . it ' s remarkably bad timing , i ' d say , to release a film this tedious after a couple of noteworthy pictures of the same kind . i have exaggerated , though : there is one interesting character , and one terrific performance . that character is steve rubell , played with more perceptiveness by mike myers than this limp production deserves . steve rubell is the owner of studio 54 , and if christopher had focused on him , then myers could have forced a good film out of this wreck all by himself . alas , we are instead guided to endure the trials of a young man named shane ( ryan phillippe ) , a going - nowhere new jersey teen who gets a job in the club , thanks to rubell ' s homosexual impulses . it ' s here that he meets his friends , the array of uninteresting characters : his co - worker , greg ( brecklin meyer ) , his wife , anita ( salma hayek ) , and , of course , the love interest , julie black ( neve campbell ) . shane is just an innocent young fool in the beginning , and he has a reasonably sturdy home life . ( some of the scenes with his father border on interesting , while heather matarazzo , who plays his sister , pushes phillippe off the screen . ) but he decides to envelop himself in the disco scene , and succumb to peer pressure and to drugs . why his \" friends \" push him into drugs is never really explained , but the fact that they are \" friends \" is questioned only is superficial ways ( greg gets really mad at shane because he ' s been elevated to bartender status ) . there isn ' t a single conflict that takes center stage , except that shane has some kind of unexplored reservation with the business in which he works . most of the film is dumb , and most of the dialogue is inane . there ' s a scene late in the film in which shane confronts julie black , and , in the next scene , they ' re arm - in - arm without a bit of development . then , they ' re kissing in a bowling alley ! this is five minutes of material , thrown into the picture at the last minute ( well past the one - hour mark , and this isn ' t a long film to begin with ) . campbell is a talented actress , but she needs a role that gives her a little depth . this one doesn ' t . and phillippe has almost no presence whatsoever ; this performance pales in comparison to mark whalberg ' s star - making role in boogie nights . he seems dumb and misguided , and his voice never changes tone . i guess he was picked for the color of his hair and the shape of his body , but he seems pretty lanky to me . he ' s all wrong for a lead role , but it doesn ' t help that christopher has forgotten to develop his characters . by the end of 54 , shane ' s most notable trait is his stupid , fake accent . the rest of the performances are wasted . hayek is an energetic , talented young actress , and does almost nothing here . meyer is endearing , but allowed to be no deeper than cardboard . only myers , by sheer force of talent , manages to rise above christopher ' s wading - pool of a script . rubell has been written just as depthless as the rest of the characters , but myers is good enough to inject subtleties that help round out the performance . in fact , myers is the sole reason to see 54 , and all it really does is make you wish that the film had revolved around him . i ' ve read that studio 54 has been recreated down to the last detail . frankly , i don ' t care . it ' s easy to recreate something technical like this . a fairly skilled production designer and a few carpenters can manage such a task . besides , christopher keeps the lights so low that the sets are invisible , anyway . aside from myers ' performance , 54 is a complete failure . it ' s dull , perfunctory , uninspired , and boring . some may find my comparisons to boogie nights unfair , but they ' re so obvious to me . in any event , 54 is pallid without the contrast . it doesn ' t even work as mindless entertainment : it ' s so shallow that the most escapist viewers are likely to dismiss it . so , don ' t forget those key words : dull , perfunctory , uninspired , and boring . everything else i said was just padding .\n",
      "Category: neg\n",
      "Predicted Sentiment: neg\n",
      "Probability: 0.9999999999988968\n",
      "\n",
      "Review: tom dicillo directs this superficial comedy about superficial people in superficial careers , all searching for deeper meaning . however , they won ' t find much meaning in the real blonde , and not enough real humor , either . joe ( matthew modine ) is a struggling actor , or he claims to be one , even though he has no credits under his belt . his girlfriend , mary ( catherine keener ) has no pretensions about her career : she ' s a makeup artist , working for the eccentric fashion photographer blair ( marlo thomas ) and supermodel of the month , sahara ( bridgette wilson ) . sahara , who has acquired a new age spirituality from repeated viewing of the little mermaid , has an on - again , off - again relationship with joe ' s best friend , bob ( maxwell caulfield ) . however , bob has gotten his biggest break yet : a starring role on a soap opera opposite the beautiful kelly ( daryl hannah ) , who may be that illusive woman he ' s always pursued : a real blonde . there are some moments of good humor in the real blonde , but not enough . the best stuff is in throwaway details in the background , such as sahara ' s perfume ads : \" depression - it ' s not just a state of mind \" . but to find humor in the superficiality of models and actors is to shoot fish in a barrel . and , unfortunately , the film ' s forays outside the realm of comedy are pathetic . take for example the film ' s framing device of an old lady and her dog . the story serves absolutely no purpose , makes little sense , and is completely tangential to the main plotlines of the movie . matthew modine and catherine keener have the most sympathetic characters in the film , but they ' re stuck in the most boring plotlines . modine whines and complains and would be completely pathetic if he was matched against someone stronger than elizabeth berkley , who appears as another struggling actor . keener ' s character has a stronger edge , but the insult self - defense class ( taught by denis leary , no less ) she is stuck in makes little sense . the movie ' s running time is under two hours , but it seems like it is well over it . there ' s just not enough humor to speed things along , and not enough meaning to propel any drama .\n",
      "Category: neg\n",
      "Predicted Sentiment: neg\n",
      "Probability: 0.9999997933046305\n",
      "\n",
      "Review: in zoolander , the world ' s most successful , influential and intellectually - challenged male model derek zoolander wonders , \" is there more to life than being really really really good looking ? \" obviously , the film ' s creator and star ben stiller asked a similar question when crafting a feature - length movie out of his hilarious vh1 / vogue fashion awards short - film subject : can there be more to this film than being really really really silly ? no , of course not , and it never aspires to be anything more . much like derek , zoolander is a sweet simpleton of a movie . it ' s not complex in either its social commentary or its comedy , and it never produces any gut - busting laughs ( except maybe a scene when derek ' s model roommates all die in a tragic \" gasoline fight \" accident -- a riotously funny take - off of tommy hilfiger ads ) . but it has a satisfying handful of strong chuckles , wild characters and performances , and mildly harsh potshots at the fashion industry to keep you amused . better yet , this exaggerated version of the original three - minute skit is only blown out to an efficient 95 minutes -- just enough time to string together its goofball plot without exhausting the gag . zoolander opens with several fashion bigwigs plotting to assassinate the prime minister of malaysia , since he wants to abolish child labor in his country and thus driving up their costs . fashion designer and criminal mastermind jacobim mugatu ( will ferrell ) drafts a plan to brainwash the dumbest fashion model to carry out the evil deed . enter derek , whose career is slumping as newcomer hansel ( owen wilson ) takes the spotlight . on the trail of mugatu ' s plot is time magazine reporter matilda jeffries ( stiller ' s real - life wife christine taylor ) , and she ' s hoping to use mugatu ' s pawn derek to ultimately foil the scheme . much like the austin powers films , zoolander relies heavily on the strength of the talent involved , and this zany comedy features some of the funniest people in entertainment today . wilson is hysterical as the young , vain hansel . ferrell nearly steals the show from everyone as the flamboyant , freakish mugatu in the same way dr . evil upstages everyone in austin powers . jerry stiller -- ben ' s dad who ' s best remembered as frank costanza of seinfeld -- makes a priceless turn as derek ' s slimy agent maury ballstein . even ben stiller show alum andy dick shows up as a deranged , large - assed masseuse . as for ben stiller , it seems his derek has one gag : he ' s stupid , which plays out in some uproarious one - liners . unfortunately , taylor seems out of place and out of her league here . maybe it ' s just because i can ' t stop seeing her as marcia brady ( who she played in both brady movies ) , making her unbelievable as a dowdy , brainy plain jane who hasn ' t had sex in two years . she leaves me pining for the cynicism of janeane garofolo , who would ' ve added real comic substance to the flimsy role . while zoolander is hardly highbrow , its screwball humor is welcome during these trying times , especially considering the gross lack of decent pickings in the theaters these days . zoolander ' s no masterpiece , but a very worthy distraction .\n",
      "Category: pos\n",
      "Predicted Sentiment: pos\n",
      "Probability: 0.9999983036778246\n",
      "\n",
      "Review: no film in recent has left me with such conflicted feelings as neil jordan ' s harrowing , humorous , horrifying adaptation of patrick mccabe ' s novel about young lad francie brady ' s ( eamonn owens ) descent into madness in 1960s ireland . on one hand , it was difficult for me to become invested in francie ' s story because he is such an unsavory character , unjustifyably venting his rage at his nosy but otherwise harmless neighbor mrs . nugent ( fiona shaw ) . on another hand , i found it difficult to laugh at some of francie ' s darkly comic shenanigans because he obviously is such a sick , needy child , having been raised by a drunken father ( stephen rea ) and a suicidal mother ( aisling o ' sullivan ) . on yet another hand , i also found it difficult to completely sympathize with francie during his more emotional scenes because some of his , for lack of a better word , \" bad \" deeds are so incredibly shocking in their brutality and the malicious glee in which he performs them . however , the butcher boy ' s power is undeniable , and the film as a whole is unforgettable -- perhaps because it is so disturbing . what makes it so unsettling is the francie ' s overall wink - wink yet matter - of - fact attitude about everything , expressed in a cheeky voiceover narration delivered by the adult francie ( rea again ) . think heavenly creatures played largely for laughs , and you ' ll sort of understand . anchoring the whole film is the astonishing debut performance of owens ; love francie or hate him , you cannot take your eyes off of owens . the butcher boy truly is a twisted , unusual film that is bound to make just about anyone uncomfortable . in the lobby after the screening , i overheard one man raving about how great yet disturbing it was ; i also heard one particularly offended woman say with disgust , \" that movie was so unfunny ! \" \" i didn ' t know what to expect . it ' s like something you chase for so long , but then you don ' t know how to react when you get it . i still don ' t know how to react . \" -- michael jordan , on winning his first nba championship in 1991 . . . or , my thoughts after meeting him on november 21 , 1997\n",
      "Category: pos\n",
      "Predicted Sentiment: pos\n",
      "Probability: 1.0\n",
      "\n",
      "Review: lauded as a genius by many , stanley kubrick commands a superlative filmography that includes such critically - acclaimed films as \" 2001 : a space odyssey , \" \" a clockwork orange , \" \" lolita , \" and \" dr . strangelove , or : how i learned to stop worrying and love the bomb . \" now , sadly , he ' s added \" eyes wide shut \" to that impeccable body of work and his final film is the first and only blot on his near - flawless copybook . kubrick , alas , should have quit while he was ahead . this much - publicized psycho - sexual tease - a - thon , with its star billing of real - life marrieds tom cruise and nicole kidman , is nothing more than one long ( two - and - a - half hours long ) boring exercise that features kubrick operating with talent wide shut . kubrick , faithless to arthur schnitzler ' s 1926 novella \" dream story , \" has confused eroticism with nudity . he has confused intellectualism with talking slowly . he has confused profundity with pretentiousness . in addition , the director has made some strange casting choices , leaving sydney pollack in and leaving accomplished performers harvey keitel and jennifer jason leigh out . pollack , the director of such box - office hits as \" tootsie \" and \" out of africa , \" is normally solid in his occasional acting stints but here he ' s miserably out of his depth . . . and there isn ' t much depth to begin with ! unhappily , there ' s not likely to be a director ' s cut of this film to determine whether the decision to exorcise keitel and leigh was the right one . in fact , with the exception of the stark black - and - white credits , snatches of baroque music on the soundtrack , and many , many grainy tracking shots down lavishly - decorated corridors , there ' s none of kubrick ' s trademark brilliance in this film . it doesn ' t help that the story , as delivered , is ridiculous . cruise and kidman , who bring little more than marital torpor to the project , play well - to - do new yorkers bill and alice harford . he ' s a doctor and she ' s an unemployed art gallery director and they share a central park west address . at an opulent party hosted by their friend victor ziegler ( pollack ) , alice gets a little tipsy and starts dancing with a jeremy irons - like hungarian , who ' s singularly determined to get her in the sack . bill , too , is seen arm - in - arm with a couple of models before he ' s pulled away to deal with an overdoser . back home , bill and alice smoke a little pot before alice ' s aggressive jealousy kicks in . as retribution , she confesses to her husband that she once had deep feelings for a naval officer she eyeballed at a hotel where she and bill once stayed . this hurtful admission sends bill into a tailspin ; he pounds the streets of the village in his heavy black overcoat struggling with black - and - white images of alice in the grip of a horny midshipman . it ' s all way too much for him . for revenge , bill almost has sex with a hooker . he almost has feelings for a underage girl he sees in a costume store . then he almost does the hooker ' s roommate . and he ' s almost involved in an overblown rococo orgy when an old college chum of his tips him off to a mysterious , password - protected party where everyone wears masks and \" the women are incredible \" ( i . e . , naked ) . this \" erotic \" set piece , a cult - ish bacchanal complete with chanting , incense , and lots of strategically - placed partygoers covering up the dirty , might impress the likes of hugh hefner , but it ' s a lot less shocking than it ' s intended to be . what ' s the big deal ? bill doesn ' t exactly * do * anything ( other than throw his money and credentials around ) , and alice only ever lusted in her heart . whoop - dee - doo . still , they make up at the same agonizingly slow pace -- was kubrick , notorious for multiple takes , paying them at an hourly rate ? even geniuses have their bad days . \" eyes wide shut \" just happens to be kubrick ' s bad day , an unerotic , disappointing , and altogether pointless end to an otherwise memorable career .\n",
      "Category: neg\n",
      "Predicted Sentiment: neg\n",
      "Probability: 0.9999994228335825\n"
     ]
    }
   ],
   "source": [
    "print(\"\\nRandomly Selected Reviews:\")\n",
    "for review, category in test_reviews:\n",
    "    print(\"\\nReview:\", ' '.join(review))\n",
    "    print(\"Category:\", category)\n",
    "\n",
    "    # Predict the sentiment of the review\n",
    "    predicted_sentiment = classifier.classify(extract_features(review))\n",
    "    probabilities = classifier.prob_classify(extract_features(review))\n",
    "    probability = probabilities.prob(predicted_sentiment)\n",
    "\n",
    "    print(\"Predicted Sentiment:\", predicted_sentiment)\n",
    "    print(\"Probability:\", probability)"
   ]
  }
 ],
 "metadata": {
  "kernelspec": {
   "display_name": "Python 3",
   "language": "python",
   "name": "python3"
  },
  "language_info": {
   "codemirror_mode": {
    "name": "ipython",
    "version": 3
   },
   "file_extension": ".py",
   "mimetype": "text/x-python",
   "name": "python",
   "nbconvert_exporter": "python",
   "pygments_lexer": "ipython3",
   "version": "3.10.11"
  },
  "orig_nbformat": 4
 },
 "nbformat": 4,
 "nbformat_minor": 2
}
